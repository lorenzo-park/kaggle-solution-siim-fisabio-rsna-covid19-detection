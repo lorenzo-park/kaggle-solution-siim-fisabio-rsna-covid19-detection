{
 "cells": [
  {
   "cell_type": "code",
   "execution_count": 2,
   "metadata": {},
   "outputs": [],
   "source": [
    "import os\n",
    "import pandas as pd\n",
    "import numpy as np"
   ]
  },
  {
   "cell_type": "code",
   "execution_count": 2,
   "metadata": {},
   "outputs": [],
   "source": [
    "data_path = \"./data-512/\"\n",
    "image_df = pd.read_csv(os.path.join(data_path, \"train_image_level.csv\"))\n",
    "study_df = pd.read_csv(os.path.join(data_path, \"train_study_level.csv\"))\n",
    "image_df[\"StudyInstanceUID\"] = image_df[\"StudyInstanceUID\"] + \"_study\"\n",
    "df = image_df.merge(study_df, left_on=\"StudyInstanceUID\", right_on=\"id\", suffixes=('', '_dup'))\n",
    "df.pop(\"id_dup\")\n",
    "df.to_csv(os.path.join(data_path, \"merged.csv\"), index=False)"
   ]
  },
  {
   "cell_type": "code",
   "execution_count": 3,
   "metadata": {
    "tags": []
   },
   "outputs": [],
   "source": [
    "rows = []\n",
    "for id, group in df.groupby(\"StudyInstanceUID\"):\n",
    "    if len(group) > 1:\n",
    "        group_filtered = group[group[\"boxes\"].isna() == False]\n",
    "        if len(group_filtered) == 0:\n",
    "            row = group.iloc[0]\n",
    "        else:\n",
    "            row = group_filtered.iloc[0]\n",
    "    else:\n",
    "        row = group.iloc[0]\n",
    "    rows.append(row)"
   ]
  },
  {
   "cell_type": "code",
   "execution_count": 4,
   "metadata": {},
   "outputs": [],
   "source": [
    "pd.DataFrame(rows).reset_index(drop=True).to_csv(os.path.join(data_path, \"merged_drop_multi_image_study.csv\"), index=False)"
   ]
  },
  {
   "cell_type": "code",
   "execution_count": 6,
   "metadata": {},
   "outputs": [],
   "source": [
    "import pandas as pd\n",
    "df = pd.read_csv(\"/root/siim-covid/data-512/merged_drop_multi_image_study.csv\")"
   ]
  },
  {
   "cell_type": "code",
   "execution_count": 8,
   "metadata": {},
   "outputs": [],
   "source": [
    "meta_df = pd.read_csv(\"/root/siim-covid/data-512/meta_train.csv\")"
   ]
  },
  {
   "cell_type": "code",
   "execution_count": 9,
   "metadata": {},
   "outputs": [
    {
     "data": {
      "text/html": "<div>\n<style scoped>\n    .dataframe tbody tr th:only-of-type {\n        vertical-align: middle;\n    }\n\n    .dataframe tbody tr th {\n        vertical-align: top;\n    }\n\n    .dataframe thead th {\n        text-align: right;\n    }\n</style>\n<table border=\"1\" class=\"dataframe\">\n  <thead>\n    <tr style=\"text-align: right;\">\n      <th></th>\n      <th>id</th>\n      <th>boxes</th>\n      <th>label</th>\n      <th>StudyInstanceUID</th>\n      <th>Negative for Pneumonia</th>\n      <th>Typical Appearance</th>\n      <th>Indeterminate Appearance</th>\n      <th>Atypical Appearance</th>\n    </tr>\n  </thead>\n  <tbody>\n    <tr>\n      <th>0</th>\n      <td>65761e66de9f_image</td>\n      <td>[{'x': 720.65215, 'y': 636.51048, 'width': 332...</td>\n      <td>opacity 1 720.65215 636.51048 1052.84563 1284....</td>\n      <td>00086460a852_study</td>\n      <td>0</td>\n      <td>1</td>\n      <td>0</td>\n      <td>0</td>\n    </tr>\n    <tr>\n      <th>1</th>\n      <td>51759b5579bc_image</td>\n      <td>NaN</td>\n      <td>none 1 0 0 1 1</td>\n      <td>000c9c05fd14_study</td>\n      <td>0</td>\n      <td>0</td>\n      <td>0</td>\n      <td>1</td>\n    </tr>\n    <tr>\n      <th>2</th>\n      <td>f6293b1c49e2_image</td>\n      <td>NaN</td>\n      <td>none 1 0 0 1 1</td>\n      <td>00292f8c37bd_study</td>\n      <td>1</td>\n      <td>0</td>\n      <td>0</td>\n      <td>0</td>\n    </tr>\n    <tr>\n      <th>3</th>\n      <td>3019399c31f4_image</td>\n      <td>NaN</td>\n      <td>none 1 0 0 1 1</td>\n      <td>005057b3f880_study</td>\n      <td>1</td>\n      <td>0</td>\n      <td>0</td>\n      <td>0</td>\n    </tr>\n    <tr>\n      <th>4</th>\n      <td>bb4b1da810f3_image</td>\n      <td>[{'x': 812.54698, 'y': 1376.41291, 'width': 62...</td>\n      <td>opacity 1 812.54698 1376.41291 1435.14793 1806...</td>\n      <td>0051d9b12e72_study</td>\n      <td>0</td>\n      <td>0</td>\n      <td>0</td>\n      <td>1</td>\n    </tr>\n    <tr>\n      <th>...</th>\n      <td>...</td>\n      <td>...</td>\n      <td>...</td>\n      <td>...</td>\n      <td>...</td>\n      <td>...</td>\n      <td>...</td>\n      <td>...</td>\n    </tr>\n    <tr>\n      <th>6049</th>\n      <td>84ed5f7f71bf_image</td>\n      <td>[{'x': 1721.27651, 'y': 974.09667, 'width': 12...</td>\n      <td>opacity 1 1721.27651 974.09667 2999.21998 2681...</td>\n      <td>ffcb4630f46f_study</td>\n      <td>0</td>\n      <td>1</td>\n      <td>0</td>\n      <td>0</td>\n    </tr>\n    <tr>\n      <th>6050</th>\n      <td>e6215d0188e5_image</td>\n      <td>[{'x': 364.93056, 'y': 870.04017, 'width': 731...</td>\n      <td>opacity 1 364.93056 870.04017 1096.13908 2053....</td>\n      <td>ffe4d6e8fbb0_study</td>\n      <td>0</td>\n      <td>1</td>\n      <td>0</td>\n      <td>0</td>\n    </tr>\n    <tr>\n      <th>6051</th>\n      <td>7d27b1bb3987_image</td>\n      <td>[{'x': 28.48292, 'y': 828.48474, 'width': 1116...</td>\n      <td>opacity 1 28.48292 828.48474 1145.01081 2296.7...</td>\n      <td>ffe94fcb14fa_study</td>\n      <td>0</td>\n      <td>1</td>\n      <td>0</td>\n      <td>0</td>\n    </tr>\n    <tr>\n      <th>6052</th>\n      <td>52478e480a15_image</td>\n      <td>[{'x': 425.81211, 'y': 424.86147, 'width': 528...</td>\n      <td>opacity 1 425.81211 424.86147 953.95118 1579.3...</td>\n      <td>ffebf1ef4a9c_study</td>\n      <td>0</td>\n      <td>1</td>\n      <td>0</td>\n      <td>0</td>\n    </tr>\n    <tr>\n      <th>6053</th>\n      <td>8a80cfa63a23_image</td>\n      <td>[{'x': 949.33503, 'y': 1495.82807, 'width': 71...</td>\n      <td>opacity 1 949.33503 1495.82807 1666.45264 2784...</td>\n      <td>fff649d65f62_study</td>\n      <td>0</td>\n      <td>1</td>\n      <td>0</td>\n      <td>0</td>\n    </tr>\n  </tbody>\n</table>\n<p>6054 rows × 8 columns</p>\n</div>",
      "text/plain": [
       "                      id                                              boxes  \\\n",
       "0     65761e66de9f_image  [{'x': 720.65215, 'y': 636.51048, 'width': 332...   \n",
       "1     51759b5579bc_image                                                NaN   \n",
       "2     f6293b1c49e2_image                                                NaN   \n",
       "3     3019399c31f4_image                                                NaN   \n",
       "4     bb4b1da810f3_image  [{'x': 812.54698, 'y': 1376.41291, 'width': 62...   \n",
       "...                  ...                                                ...   \n",
       "6049  84ed5f7f71bf_image  [{'x': 1721.27651, 'y': 974.09667, 'width': 12...   \n",
       "6050  e6215d0188e5_image  [{'x': 364.93056, 'y': 870.04017, 'width': 731...   \n",
       "6051  7d27b1bb3987_image  [{'x': 28.48292, 'y': 828.48474, 'width': 1116...   \n",
       "6052  52478e480a15_image  [{'x': 425.81211, 'y': 424.86147, 'width': 528...   \n",
       "6053  8a80cfa63a23_image  [{'x': 949.33503, 'y': 1495.82807, 'width': 71...   \n",
       "\n",
       "                                                  label    StudyInstanceUID  \\\n",
       "0     opacity 1 720.65215 636.51048 1052.84563 1284....  00086460a852_study   \n",
       "1                                        none 1 0 0 1 1  000c9c05fd14_study   \n",
       "2                                        none 1 0 0 1 1  00292f8c37bd_study   \n",
       "3                                        none 1 0 0 1 1  005057b3f880_study   \n",
       "4     opacity 1 812.54698 1376.41291 1435.14793 1806...  0051d9b12e72_study   \n",
       "...                                                 ...                 ...   \n",
       "6049  opacity 1 1721.27651 974.09667 2999.21998 2681...  ffcb4630f46f_study   \n",
       "6050  opacity 1 364.93056 870.04017 1096.13908 2053....  ffe4d6e8fbb0_study   \n",
       "6051  opacity 1 28.48292 828.48474 1145.01081 2296.7...  ffe94fcb14fa_study   \n",
       "6052  opacity 1 425.81211 424.86147 953.95118 1579.3...  ffebf1ef4a9c_study   \n",
       "6053  opacity 1 949.33503 1495.82807 1666.45264 2784...  fff649d65f62_study   \n",
       "\n",
       "      Negative for Pneumonia  Typical Appearance  Indeterminate Appearance  \\\n",
       "0                          0                   1                         0   \n",
       "1                          0                   0                         0   \n",
       "2                          1                   0                         0   \n",
       "3                          1                   0                         0   \n",
       "4                          0                   0                         0   \n",
       "...                      ...                 ...                       ...   \n",
       "6049                       0                   1                         0   \n",
       "6050                       0                   1                         0   \n",
       "6051                       0                   1                         0   \n",
       "6052                       0                   1                         0   \n",
       "6053                       0                   1                         0   \n",
       "\n",
       "      Atypical Appearance  \n",
       "0                       0  \n",
       "1                       1  \n",
       "2                       0  \n",
       "3                       0  \n",
       "4                       1  \n",
       "...                   ...  \n",
       "6049                    0  \n",
       "6050                    0  \n",
       "6051                    0  \n",
       "6052                    0  \n",
       "6053                    0  \n",
       "\n",
       "[6054 rows x 8 columns]"
      ]
     },
     "execution_count": 9,
     "metadata": {},
     "output_type": "execute_result"
    }
   ],
   "source": [
    "df"
   ]
  },
  {
   "cell_type": "code",
   "execution_count": 15,
   "metadata": {},
   "outputs": [],
   "source": [
    "mapper = {}\n",
    "for study_id, patient_id in meta_df[[\"StudyInstanceUID\", \"PatientID\"]].to_numpy():\n",
    "    mapper[study_id] = patient_id"
   ]
  },
  {
   "cell_type": "code",
   "execution_count": 19,
   "metadata": {},
   "outputs": [],
   "source": [
    "patient_ids = []\n",
    "for idx, row in df.iterrows():\n",
    "    patient_ids.append(mapper[row[\"StudyInstanceUID\"].replace(\"_study\",\"\")])"
   ]
  },
  {
   "cell_type": "code",
   "execution_count": 21,
   "metadata": {},
   "outputs": [],
   "source": [
    "df[\"PatientID\"] = patient_ids"
   ]
  },
  {
   "cell_type": "code",
   "execution_count": 23,
   "metadata": {},
   "outputs": [],
   "source": [
    "df.to_csv(\"/root/siim-covid/data-512/merged_drop_multi_image_study.csv\")"
   ]
  },
  {
   "cell_type": "code",
   "execution_count": 5,
   "metadata": {},
   "outputs": [
    {
     "data": {
      "text/html": "<div>\n<style scoped>\n    .dataframe tbody tr th:only-of-type {\n        vertical-align: middle;\n    }\n\n    .dataframe tbody tr th {\n        vertical-align: top;\n    }\n\n    .dataframe thead th {\n        text-align: right;\n    }\n</style>\n<table border=\"1\" class=\"dataframe\">\n  <thead>\n    <tr style=\"text-align: right;\">\n      <th></th>\n      <th>id</th>\n      <th>boxes</th>\n      <th>label</th>\n      <th>StudyInstanceUID</th>\n      <th>Negative for Pneumonia</th>\n      <th>Typical Appearance</th>\n      <th>Indeterminate Appearance</th>\n      <th>Atypical Appearance</th>\n      <th>PatientID</th>\n      <th>study_id</th>\n      <th>psl_Negative for Pneumonia</th>\n      <th>psl_Typical Appearance</th>\n      <th>psl_Indeterminate Appearance</th>\n      <th>psl_Atypical Appearance</th>\n    </tr>\n  </thead>\n  <tbody>\n    <tr>\n      <th>0</th>\n      <td>65761e66de9f_image</td>\n      <td>[{'x': 720.65215, 'y': 636.51048, 'width': 332...</td>\n      <td>opacity 1 720.65215 636.51048 1052.84563 1284....</td>\n      <td>00086460a852_study</td>\n      <td>0</td>\n      <td>1</td>\n      <td>0</td>\n      <td>0</td>\n      <td>7d3bf0aef747</td>\n      <td>00086460a852_study</td>\n      <td>0.034871</td>\n      <td>0.237445</td>\n      <td>0.220957</td>\n      <td>0.506727</td>\n    </tr>\n    <tr>\n      <th>1</th>\n      <td>51759b5579bc_image</td>\n      <td>NaN</td>\n      <td>none 1 0 0 1 1</td>\n      <td>000c9c05fd14_study</td>\n      <td>0</td>\n      <td>0</td>\n      <td>0</td>\n      <td>1</td>\n      <td>2c00dc1ead80</td>\n      <td>000c9c05fd14_study</td>\n      <td>0.023178</td>\n      <td>0.011617</td>\n      <td>0.017695</td>\n      <td>0.947510</td>\n    </tr>\n    <tr>\n      <th>2</th>\n      <td>f6293b1c49e2_image</td>\n      <td>NaN</td>\n      <td>none 1 0 0 1 1</td>\n      <td>00292f8c37bd_study</td>\n      <td>1</td>\n      <td>0</td>\n      <td>0</td>\n      <td>0</td>\n      <td>f942cf0989ff</td>\n      <td>00292f8c37bd_study</td>\n      <td>0.938524</td>\n      <td>0.020923</td>\n      <td>0.029067</td>\n      <td>0.011487</td>\n    </tr>\n    <tr>\n      <th>3</th>\n      <td>3019399c31f4_image</td>\n      <td>NaN</td>\n      <td>none 1 0 0 1 1</td>\n      <td>005057b3f880_study</td>\n      <td>1</td>\n      <td>0</td>\n      <td>0</td>\n      <td>0</td>\n      <td>f1894c76ef7b</td>\n      <td>005057b3f880_study</td>\n      <td>0.962784</td>\n      <td>0.008199</td>\n      <td>0.015824</td>\n      <td>0.013193</td>\n    </tr>\n    <tr>\n      <th>4</th>\n      <td>bb4b1da810f3_image</td>\n      <td>[{'x': 812.54698, 'y': 1376.41291, 'width': 62...</td>\n      <td>opacity 1 812.54698 1376.41291 1435.14793 1806...</td>\n      <td>0051d9b12e72_study</td>\n      <td>0</td>\n      <td>0</td>\n      <td>0</td>\n      <td>1</td>\n      <td>e2dbb0ae5e50</td>\n      <td>0051d9b12e72_study</td>\n      <td>0.234519</td>\n      <td>0.281015</td>\n      <td>0.334334</td>\n      <td>0.150132</td>\n    </tr>\n    <tr>\n      <th>...</th>\n      <td>...</td>\n      <td>...</td>\n      <td>...</td>\n      <td>...</td>\n      <td>...</td>\n      <td>...</td>\n      <td>...</td>\n      <td>...</td>\n      <td>...</td>\n      <td>...</td>\n      <td>...</td>\n      <td>...</td>\n      <td>...</td>\n      <td>...</td>\n    </tr>\n    <tr>\n      <th>6049</th>\n      <td>84ed5f7f71bf_image</td>\n      <td>[{'x': 1721.27651, 'y': 974.09667, 'width': 12...</td>\n      <td>opacity 1 1721.27651 974.09667 2999.21998 2681...</td>\n      <td>ffcb4630f46f_study</td>\n      <td>0</td>\n      <td>1</td>\n      <td>0</td>\n      <td>0</td>\n      <td>e67df835b17d</td>\n      <td>ffcb4630f46f_study</td>\n      <td>0.011239</td>\n      <td>0.872172</td>\n      <td>0.090800</td>\n      <td>0.025790</td>\n    </tr>\n    <tr>\n      <th>6050</th>\n      <td>e6215d0188e5_image</td>\n      <td>[{'x': 364.93056, 'y': 870.04017, 'width': 731...</td>\n      <td>opacity 1 364.93056 870.04017 1096.13908 2053....</td>\n      <td>ffe4d6e8fbb0_study</td>\n      <td>0</td>\n      <td>1</td>\n      <td>0</td>\n      <td>0</td>\n      <td>a66dba7d222a</td>\n      <td>ffe4d6e8fbb0_study</td>\n      <td>0.032084</td>\n      <td>0.076055</td>\n      <td>0.115309</td>\n      <td>0.776552</td>\n    </tr>\n    <tr>\n      <th>6051</th>\n      <td>7d27b1bb3987_image</td>\n      <td>[{'x': 28.48292, 'y': 828.48474, 'width': 1116...</td>\n      <td>opacity 1 28.48292 828.48474 1145.01081 2296.7...</td>\n      <td>ffe94fcb14fa_study</td>\n      <td>0</td>\n      <td>1</td>\n      <td>0</td>\n      <td>0</td>\n      <td>1af09f44436b</td>\n      <td>ffe94fcb14fa_study</td>\n      <td>0.038101</td>\n      <td>0.835028</td>\n      <td>0.112022</td>\n      <td>0.014849</td>\n    </tr>\n    <tr>\n      <th>6052</th>\n      <td>52478e480a15_image</td>\n      <td>[{'x': 425.81211, 'y': 424.86147, 'width': 528...</td>\n      <td>opacity 1 425.81211 424.86147 953.95118 1579.3...</td>\n      <td>ffebf1ef4a9c_study</td>\n      <td>0</td>\n      <td>1</td>\n      <td>0</td>\n      <td>0</td>\n      <td>95680c66c89a</td>\n      <td>ffebf1ef4a9c_study</td>\n      <td>0.001412</td>\n      <td>0.808955</td>\n      <td>0.133609</td>\n      <td>0.056024</td>\n    </tr>\n    <tr>\n      <th>6053</th>\n      <td>8a80cfa63a23_image</td>\n      <td>[{'x': 949.33503, 'y': 1495.82807, 'width': 71...</td>\n      <td>opacity 1 949.33503 1495.82807 1666.45264 2784...</td>\n      <td>fff649d65f62_study</td>\n      <td>0</td>\n      <td>1</td>\n      <td>0</td>\n      <td>0</td>\n      <td>eac4a21146e4</td>\n      <td>fff649d65f62_study</td>\n      <td>0.104570</td>\n      <td>0.632995</td>\n      <td>0.205575</td>\n      <td>0.056860</td>\n    </tr>\n  </tbody>\n</table>\n<p>6054 rows × 14 columns</p>\n</div>",
      "text/plain": "                      id                                              boxes  \\\n0     65761e66de9f_image  [{'x': 720.65215, 'y': 636.51048, 'width': 332...   \n1     51759b5579bc_image                                                NaN   \n2     f6293b1c49e2_image                                                NaN   \n3     3019399c31f4_image                                                NaN   \n4     bb4b1da810f3_image  [{'x': 812.54698, 'y': 1376.41291, 'width': 62...   \n...                  ...                                                ...   \n6049  84ed5f7f71bf_image  [{'x': 1721.27651, 'y': 974.09667, 'width': 12...   \n6050  e6215d0188e5_image  [{'x': 364.93056, 'y': 870.04017, 'width': 731...   \n6051  7d27b1bb3987_image  [{'x': 28.48292, 'y': 828.48474, 'width': 1116...   \n6052  52478e480a15_image  [{'x': 425.81211, 'y': 424.86147, 'width': 528...   \n6053  8a80cfa63a23_image  [{'x': 949.33503, 'y': 1495.82807, 'width': 71...   \n\n                                                  label    StudyInstanceUID  \\\n0     opacity 1 720.65215 636.51048 1052.84563 1284....  00086460a852_study   \n1                                        none 1 0 0 1 1  000c9c05fd14_study   \n2                                        none 1 0 0 1 1  00292f8c37bd_study   \n3                                        none 1 0 0 1 1  005057b3f880_study   \n4     opacity 1 812.54698 1376.41291 1435.14793 1806...  0051d9b12e72_study   \n...                                                 ...                 ...   \n6049  opacity 1 1721.27651 974.09667 2999.21998 2681...  ffcb4630f46f_study   \n6050  opacity 1 364.93056 870.04017 1096.13908 2053....  ffe4d6e8fbb0_study   \n6051  opacity 1 28.48292 828.48474 1145.01081 2296.7...  ffe94fcb14fa_study   \n6052  opacity 1 425.81211 424.86147 953.95118 1579.3...  ffebf1ef4a9c_study   \n6053  opacity 1 949.33503 1495.82807 1666.45264 2784...  fff649d65f62_study   \n\n      Negative for Pneumonia  Typical Appearance  Indeterminate Appearance  \\\n0                          0                   1                         0   \n1                          0                   0                         0   \n2                          1                   0                         0   \n3                          1                   0                         0   \n4                          0                   0                         0   \n...                      ...                 ...                       ...   \n6049                       0                   1                         0   \n6050                       0                   1                         0   \n6051                       0                   1                         0   \n6052                       0                   1                         0   \n6053                       0                   1                         0   \n\n      Atypical Appearance     PatientID            study_id  \\\n0                       0  7d3bf0aef747  00086460a852_study   \n1                       1  2c00dc1ead80  000c9c05fd14_study   \n2                       0  f942cf0989ff  00292f8c37bd_study   \n3                       0  f1894c76ef7b  005057b3f880_study   \n4                       1  e2dbb0ae5e50  0051d9b12e72_study   \n...                   ...           ...                 ...   \n6049                    0  e67df835b17d  ffcb4630f46f_study   \n6050                    0  a66dba7d222a  ffe4d6e8fbb0_study   \n6051                    0  1af09f44436b  ffe94fcb14fa_study   \n6052                    0  95680c66c89a  ffebf1ef4a9c_study   \n6053                    0  eac4a21146e4  fff649d65f62_study   \n\n      psl_Negative for Pneumonia  psl_Typical Appearance  \\\n0                       0.034871                0.237445   \n1                       0.023178                0.011617   \n2                       0.938524                0.020923   \n3                       0.962784                0.008199   \n4                       0.234519                0.281015   \n...                          ...                     ...   \n6049                    0.011239                0.872172   \n6050                    0.032084                0.076055   \n6051                    0.038101                0.835028   \n6052                    0.001412                0.808955   \n6053                    0.104570                0.632995   \n\n      psl_Indeterminate Appearance  psl_Atypical Appearance  \n0                         0.220957                 0.506727  \n1                         0.017695                 0.947510  \n2                         0.029067                 0.011487  \n3                         0.015824                 0.013193  \n4                         0.334334                 0.150132  \n...                            ...                      ...  \n6049                      0.090800                 0.025790  \n6050                      0.115309                 0.776552  \n6051                      0.112022                 0.014849  \n6052                      0.133609                 0.056024  \n6053                      0.205575                 0.056860  \n\n[6054 rows x 14 columns]"
     },
     "execution_count": 5,
     "metadata": {},
     "output_type": "execute_result"
    }
   ],
   "source": [
    "train = pd.read_csv(\"./data-640/train_psl.csv\")\n",
    "train"
   ]
  },
  {
   "cell_type": "code",
   "execution_count": 8,
   "metadata": {},
   "outputs": [
    {
     "data": {
      "text/html": "<div>\n<style scoped>\n    .dataframe tbody tr th:only-of-type {\n        vertical-align: middle;\n    }\n\n    .dataframe tbody tr th {\n        vertical-align: top;\n    }\n\n    .dataframe thead th {\n        text-align: right;\n    }\n</style>\n<table border=\"1\" class=\"dataframe\">\n  <thead>\n    <tr style=\"text-align: right;\">\n      <th></th>\n      <th>id</th>\n      <th>boxes</th>\n      <th>label</th>\n      <th>StudyInstanceUID</th>\n      <th>none</th>\n    </tr>\n  </thead>\n  <tbody>\n    <tr>\n      <th>0</th>\n      <td>000a312787f2_image</td>\n      <td>[{'x': 789.28836, 'y': 582.43035, 'width': 102...</td>\n      <td>opacity 1 789.28836 582.43035 1815.94498 2499....</td>\n      <td>5776db0cec75</td>\n      <td>0</td>\n    </tr>\n    <tr>\n      <th>1</th>\n      <td>000c3a3f293f_image</td>\n      <td>NaN</td>\n      <td>none 1 0 0 1 1</td>\n      <td>ff0879eb20ed</td>\n      <td>1</td>\n    </tr>\n    <tr>\n      <th>2</th>\n      <td>0012ff7358bc_image</td>\n      <td>[{'x': 677.42216, 'y': 197.97662, 'width': 867...</td>\n      <td>opacity 1 677.42216 197.97662 1545.21983 1197....</td>\n      <td>9d514ce429a7</td>\n      <td>0</td>\n    </tr>\n    <tr>\n      <th>3</th>\n      <td>001398f4ff4f_image</td>\n      <td>[{'x': 2729, 'y': 2181.33331, 'width': 948.000...</td>\n      <td>opacity 1 2729 2181.33331 3677.00012 2785.33331</td>\n      <td>28dddc8559b2</td>\n      <td>0</td>\n    </tr>\n    <tr>\n      <th>4</th>\n      <td>001bd15d1891_image</td>\n      <td>[{'x': 623.23328, 'y': 1050, 'width': 714, 'he...</td>\n      <td>opacity 1 623.23328 1050 1337.23328 2156 opaci...</td>\n      <td>dfd9fdd85a3e</td>\n      <td>0</td>\n    </tr>\n    <tr>\n      <th>...</th>\n      <td>...</td>\n      <td>...</td>\n      <td>...</td>\n      <td>...</td>\n      <td>...</td>\n    </tr>\n    <tr>\n      <th>6329</th>\n      <td>ffcc6edd9445_image</td>\n      <td>NaN</td>\n      <td>none 1 0 0 1 1</td>\n      <td>7e6c68462e06</td>\n      <td>1</td>\n    </tr>\n    <tr>\n      <th>6330</th>\n      <td>ffd91a2c4ca0_image</td>\n      <td>NaN</td>\n      <td>none 1 0 0 1 1</td>\n      <td>8332bdaddb6e</td>\n      <td>1</td>\n    </tr>\n    <tr>\n      <th>6331</th>\n      <td>ffd9b6cf2961_image</td>\n      <td>[{'x': 2197.38566, 'y': 841.07361, 'width': 31...</td>\n      <td>opacity 1 2197.38566 841.07361 2513.80265 1292...</td>\n      <td>7eed9af03814</td>\n      <td>0</td>\n    </tr>\n    <tr>\n      <th>6332</th>\n      <td>ffdc682f7680_image</td>\n      <td>[{'x': 2729.27083, 'y': 332.26044, 'width': 14...</td>\n      <td>opacity 1 2729.27083 332.26044 4225.52099 2936...</td>\n      <td>a0cb0b96fb3d</td>\n      <td>0</td>\n    </tr>\n    <tr>\n      <th>6333</th>\n      <td>ffe942c8655f_image</td>\n      <td>[{'x': 208.86463, 'y': 91.53448, 'width': 450....</td>\n      <td>opacity 1 208.86463 91.53448 659.8321 719.5892...</td>\n      <td>7d82d53204b8</td>\n      <td>0</td>\n    </tr>\n  </tbody>\n</table>\n<p>6334 rows × 5 columns</p>\n</div>",
      "text/plain": "                      id                                              boxes  \\\n0     000a312787f2_image  [{'x': 789.28836, 'y': 582.43035, 'width': 102...   \n1     000c3a3f293f_image                                                NaN   \n2     0012ff7358bc_image  [{'x': 677.42216, 'y': 197.97662, 'width': 867...   \n3     001398f4ff4f_image  [{'x': 2729, 'y': 2181.33331, 'width': 948.000...   \n4     001bd15d1891_image  [{'x': 623.23328, 'y': 1050, 'width': 714, 'he...   \n...                  ...                                                ...   \n6329  ffcc6edd9445_image                                                NaN   \n6330  ffd91a2c4ca0_image                                                NaN   \n6331  ffd9b6cf2961_image  [{'x': 2197.38566, 'y': 841.07361, 'width': 31...   \n6332  ffdc682f7680_image  [{'x': 2729.27083, 'y': 332.26044, 'width': 14...   \n6333  ffe942c8655f_image  [{'x': 208.86463, 'y': 91.53448, 'width': 450....   \n\n                                                  label StudyInstanceUID  none  \n0     opacity 1 789.28836 582.43035 1815.94498 2499....     5776db0cec75     0  \n1                                        none 1 0 0 1 1     ff0879eb20ed     1  \n2     opacity 1 677.42216 197.97662 1545.21983 1197....     9d514ce429a7     0  \n3       opacity 1 2729 2181.33331 3677.00012 2785.33331     28dddc8559b2     0  \n4     opacity 1 623.23328 1050 1337.23328 2156 opaci...     dfd9fdd85a3e     0  \n...                                                 ...              ...   ...  \n6329                                     none 1 0 0 1 1     7e6c68462e06     1  \n6330                                     none 1 0 0 1 1     8332bdaddb6e     1  \n6331  opacity 1 2197.38566 841.07361 2513.80265 1292...     7eed9af03814     0  \n6332  opacity 1 2729.27083 332.26044 4225.52099 2936...     a0cb0b96fb3d     0  \n6333  opacity 1 208.86463 91.53448 659.8321 719.5892...     7d82d53204b8     0  \n\n[6334 rows x 5 columns]"
     },
     "execution_count": 8,
     "metadata": {},
     "output_type": "execute_result"
    }
   ],
   "source": [
    "twoclass = pd.read_csv(\"./data-640/2class.csv\")\n",
    "twoclass"
   ]
  },
  {
   "cell_type": "code",
   "execution_count": 5,
   "metadata": {},
   "outputs": [],
   "source": [
    "import pandas as pd\n",
    "train_target = pd.read_csv(\"./data-640-merge/df.csv\")\n",
    "ids = []\n",
    "for idx, row in train_target.iterrows():\n",
    "  ids.append(row[\"id\"].replace(\".png\",\"_study\"))\n",
    "train_target[\"id\"] = ids\n",
    "\n",
    "train_target = train_target.rename(columns={\"id\": \"StudyInstanceUID\"})\n",
    "train_old = pd.read_csv(\"./data-640/train_psl_none.csv\")\n",
    "train_target = pd.merge(train_target, train_old[[\"StudyInstanceUID\",\"id\",\"boxes\",\"label\",\"PatientID\"]], on=\"StudyInstanceUID\", how=\"left\")\n",
    "ids = []\n",
    "for idx, row in train_target.iterrows():\n",
    "  if pd.isna(row[\"id\"]):\n",
    "    ids.append(row[\"StudyInstanceUID\"].replace(\"_study\", \"_image\"))\n",
    "  else:\n",
    "    ids.append(row[\"id\"])\n",
    "train_target[\"id\"] = ids\n",
    "train_target[\"label\"] = train_target[\"label\"].fillna(\"none 1 0 0 1 1\")\n",
    "train_target[\"PatientID\"] = train_target[\"PatientID\"].fillna(train_target[\"StudyInstanceUID\"])\n",
    "train_target.to_csv(\"./data-640-merge/train_psl_none.csv\")"
   ]
  },
  {
   "cell_type": "code",
   "execution_count": 38,
   "metadata": {},
   "outputs": [],
   "source": [
    "meta = pd.read_csv(\"./data-640/meta.csv\")\n",
    "meta[\"image_id\"] += \"_image\"\n",
    "meta[\"id\"] = meta.pop(\"image_id\")\n",
    "meta_target = pd.read_csv(\"./data-640-merge/train_psl_none.csv\")\n",
    "meta_target = pd.merge(meta_target[[\"id\"]], meta, how=\"left\", on=\"id\").fillna(0).rename(columns={\"id\":\"image_id\"})\n",
    "meta_target[\"split\"] = \"train\"\n",
    "meta_target[\"image_id\"] = meta_target[\"image_id\"].apply(lambda x: x.replace(\"_image\", \"\"))\n",
    "meta_target.to_csv(\"./data-640-merge/meta.csv\", index=False)"
   ]
  },
  {
   "cell_type": "code",
   "execution_count": 2,
   "metadata": {},
   "outputs": [],
   "source": [
    "import pandas as pd\n",
    "df = pd.read_csv(\"./data-640-merge/train_psl_none.csv\")\n",
    "df[\"merge\"] = df[\"PatientID\"] == df[\"StudyInstanceUID\"]\n",
    "df.to_csv(\"./data-640-merge/train_psl_none.csv\")"
   ]
  },
  {
   "cell_type": "code",
   "execution_count": 5,
   "metadata": {},
   "outputs": [
    {
     "data": {
      "text/html": "<div>\n<style scoped>\n    .dataframe tbody tr th:only-of-type {\n        vertical-align: middle;\n    }\n\n    .dataframe tbody tr th {\n        vertical-align: top;\n    }\n\n    .dataframe thead th {\n        text-align: right;\n    }\n</style>\n<table border=\"1\" class=\"dataframe\">\n  <thead>\n    <tr style=\"text-align: right;\">\n      <th></th>\n      <th>Unnamed: 0</th>\n      <th>Unnamed: 0.1</th>\n      <th>StudyInstanceUID</th>\n      <th>Negative for Pneumonia</th>\n      <th>Typical Appearance</th>\n      <th>Indeterminate Appearance</th>\n      <th>Atypical Appearance</th>\n      <th>id</th>\n      <th>boxes</th>\n      <th>label</th>\n      <th>PatientID</th>\n      <th>merge</th>\n    </tr>\n  </thead>\n  <tbody>\n    <tr>\n      <th>0</th>\n      <td>0</td>\n      <td>0</td>\n      <td>00086460a852_study</td>\n      <td>0.0</td>\n      <td>1.0</td>\n      <td>0.0</td>\n      <td>0.0</td>\n      <td>65761e66de9f_image</td>\n      <td>[{'x': 720.65215, 'y': 636.51048, 'width': 332...</td>\n      <td>opacity 1 720.65215 636.51048 1052.84563 1284....</td>\n      <td>7d3bf0aef747</td>\n      <td>False</td>\n    </tr>\n    <tr>\n      <th>1</th>\n      <td>1</td>\n      <td>1</td>\n      <td>000c9c05fd14_study</td>\n      <td>0.0</td>\n      <td>0.0</td>\n      <td>0.0</td>\n      <td>1.0</td>\n      <td>51759b5579bc_image</td>\n      <td>NaN</td>\n      <td>none 1 0 0 1 1</td>\n      <td>2c00dc1ead80</td>\n      <td>False</td>\n    </tr>\n    <tr>\n      <th>2</th>\n      <td>2</td>\n      <td>2</td>\n      <td>00292f8c37bd_study</td>\n      <td>1.0</td>\n      <td>0.0</td>\n      <td>0.0</td>\n      <td>0.0</td>\n      <td>f6293b1c49e2_image</td>\n      <td>NaN</td>\n      <td>none 1 0 0 1 1</td>\n      <td>f942cf0989ff</td>\n      <td>False</td>\n    </tr>\n    <tr>\n      <th>3</th>\n      <td>3</td>\n      <td>3</td>\n      <td>005057b3f880_study</td>\n      <td>1.0</td>\n      <td>0.0</td>\n      <td>0.0</td>\n      <td>0.0</td>\n      <td>3019399c31f4_image</td>\n      <td>NaN</td>\n      <td>none 1 0 0 1 1</td>\n      <td>f1894c76ef7b</td>\n      <td>False</td>\n    </tr>\n    <tr>\n      <th>4</th>\n      <td>4</td>\n      <td>4</td>\n      <td>0051d9b12e72_study</td>\n      <td>0.0</td>\n      <td>0.0</td>\n      <td>0.0</td>\n      <td>1.0</td>\n      <td>bb4b1da810f3_image</td>\n      <td>[{'x': 812.54698, 'y': 1376.41291, 'width': 62...</td>\n      <td>opacity 1 812.54698 1376.41291 1435.14793 1806...</td>\n      <td>e2dbb0ae5e50</td>\n      <td>False</td>\n    </tr>\n    <tr>\n      <th>...</th>\n      <td>...</td>\n      <td>...</td>\n      <td>...</td>\n      <td>...</td>\n      <td>...</td>\n      <td>...</td>\n      <td>...</td>\n      <td>...</td>\n      <td>...</td>\n      <td>...</td>\n      <td>...</td>\n      <td>...</td>\n    </tr>\n    <tr>\n      <th>6936</th>\n      <td>6936</td>\n      <td>6936</td>\n      <td>efa145c8f465_study</td>\n      <td>0.0</td>\n      <td>1.0</td>\n      <td>0.0</td>\n      <td>0.0</td>\n      <td>efa145c8f465_image</td>\n      <td>NaN</td>\n      <td>none 1 0 0 1 1</td>\n      <td>efa145c8f465_study</td>\n      <td>True</td>\n    </tr>\n    <tr>\n      <th>6937</th>\n      <td>6937</td>\n      <td>6937</td>\n      <td>b19e48fcf465_study</td>\n      <td>0.0</td>\n      <td>0.0</td>\n      <td>1.0</td>\n      <td>0.0</td>\n      <td>b19e48fcf465_image</td>\n      <td>NaN</td>\n      <td>none 1 0 0 1 1</td>\n      <td>b19e48fcf465_study</td>\n      <td>True</td>\n    </tr>\n    <tr>\n      <th>6938</th>\n      <td>6938</td>\n      <td>6938</td>\n      <td>ef60d286f465_study</td>\n      <td>1.0</td>\n      <td>0.0</td>\n      <td>0.0</td>\n      <td>0.0</td>\n      <td>ef60d286f465_image</td>\n      <td>NaN</td>\n      <td>none 1 0 0 1 1</td>\n      <td>ef60d286f465_study</td>\n      <td>True</td>\n    </tr>\n    <tr>\n      <th>6939</th>\n      <td>6939</td>\n      <td>6939</td>\n      <td>a39ee89cf465_study</td>\n      <td>0.0</td>\n      <td>0.0</td>\n      <td>1.0</td>\n      <td>0.0</td>\n      <td>a39ee89cf465_image</td>\n      <td>NaN</td>\n      <td>none 1 0 0 1 1</td>\n      <td>a39ee89cf465_study</td>\n      <td>True</td>\n    </tr>\n    <tr>\n      <th>6940</th>\n      <td>6940</td>\n      <td>6940</td>\n      <td>5596363cf465_study</td>\n      <td>0.0</td>\n      <td>1.0</td>\n      <td>0.0</td>\n      <td>0.0</td>\n      <td>5596363cf465_image</td>\n      <td>NaN</td>\n      <td>none 1 0 0 1 1</td>\n      <td>5596363cf465_study</td>\n      <td>True</td>\n    </tr>\n  </tbody>\n</table>\n<p>6941 rows × 12 columns</p>\n</div>",
      "text/plain": "      Unnamed: 0  Unnamed: 0.1    StudyInstanceUID  Negative for Pneumonia  \\\n0              0             0  00086460a852_study                     0.0   \n1              1             1  000c9c05fd14_study                     0.0   \n2              2             2  00292f8c37bd_study                     1.0   \n3              3             3  005057b3f880_study                     1.0   \n4              4             4  0051d9b12e72_study                     0.0   \n...          ...           ...                 ...                     ...   \n6936        6936          6936  efa145c8f465_study                     0.0   \n6937        6937          6937  b19e48fcf465_study                     0.0   \n6938        6938          6938  ef60d286f465_study                     1.0   \n6939        6939          6939  a39ee89cf465_study                     0.0   \n6940        6940          6940  5596363cf465_study                     0.0   \n\n      Typical Appearance  Indeterminate Appearance  Atypical Appearance  \\\n0                    1.0                       0.0                  0.0   \n1                    0.0                       0.0                  1.0   \n2                    0.0                       0.0                  0.0   \n3                    0.0                       0.0                  0.0   \n4                    0.0                       0.0                  1.0   \n...                  ...                       ...                  ...   \n6936                 1.0                       0.0                  0.0   \n6937                 0.0                       1.0                  0.0   \n6938                 0.0                       0.0                  0.0   \n6939                 0.0                       1.0                  0.0   \n6940                 1.0                       0.0                  0.0   \n\n                      id                                              boxes  \\\n0     65761e66de9f_image  [{'x': 720.65215, 'y': 636.51048, 'width': 332...   \n1     51759b5579bc_image                                                NaN   \n2     f6293b1c49e2_image                                                NaN   \n3     3019399c31f4_image                                                NaN   \n4     bb4b1da810f3_image  [{'x': 812.54698, 'y': 1376.41291, 'width': 62...   \n...                  ...                                                ...   \n6936  efa145c8f465_image                                                NaN   \n6937  b19e48fcf465_image                                                NaN   \n6938  ef60d286f465_image                                                NaN   \n6939  a39ee89cf465_image                                                NaN   \n6940  5596363cf465_image                                                NaN   \n\n                                                  label           PatientID  \\\n0     opacity 1 720.65215 636.51048 1052.84563 1284....        7d3bf0aef747   \n1                                        none 1 0 0 1 1        2c00dc1ead80   \n2                                        none 1 0 0 1 1        f942cf0989ff   \n3                                        none 1 0 0 1 1        f1894c76ef7b   \n4     opacity 1 812.54698 1376.41291 1435.14793 1806...        e2dbb0ae5e50   \n...                                                 ...                 ...   \n6936                                     none 1 0 0 1 1  efa145c8f465_study   \n6937                                     none 1 0 0 1 1  b19e48fcf465_study   \n6938                                     none 1 0 0 1 1  ef60d286f465_study   \n6939                                     none 1 0 0 1 1  a39ee89cf465_study   \n6940                                     none 1 0 0 1 1  5596363cf465_study   \n\n      merge  \n0     False  \n1     False  \n2     False  \n3     False  \n4     False  \n...     ...  \n6936   True  \n6937   True  \n6938   True  \n6939   True  \n6940   True  \n\n[6941 rows x 12 columns]"
     },
     "execution_count": 5,
     "metadata": {},
     "output_type": "execute_result"
    }
   ],
   "source": [
    "df"
   ]
  },
  {
   "cell_type": "code",
   "execution_count": null,
   "metadata": {},
   "outputs": [],
   "source": []
  }
 ],
 "metadata": {
  "kernelspec": {
   "display_name": "Python 3.7.10 64-bit ('siim-covid': conda)",
   "name": "python3710jvsc74a57bd055da4bfabaa72f6d23e190de73e880f50e1e61f38162ba3c994fd2cd39574748"
  },
  "language_info": {
   "codemirror_mode": {
    "name": "ipython",
    "version": 3
   },
   "file_extension": ".py",
   "mimetype": "text/x-python",
   "name": "python",
   "nbconvert_exporter": "python",
   "pygments_lexer": "ipython3",
   "version": "3.7.10"
  },
  "metadata": {
   "interpreter": {
    "hash": "55da4bfabaa72f6d23e190de73e880f50e1e61f38162ba3c994fd2cd39574748"
   }
  },
  "orig_nbformat": 2
 },
 "nbformat": 4,
 "nbformat_minor": 2
}